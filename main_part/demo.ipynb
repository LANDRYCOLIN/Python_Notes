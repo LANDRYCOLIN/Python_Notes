{
 "cells": [
  {
   "cell_type": "code",
   "execution_count": 1,
   "metadata": {},
   "outputs": [
    {
     "name": "stdout",
     "output_type": "stream",
     "text": [
      "How beautiful my life is.\n"
     ]
    }
   ],
   "source": [
    "print(\"How beautiful my life is.\")"
   ]
  },
  {
   "cell_type": "code",
   "execution_count": 2,
   "metadata": {},
   "outputs": [
    {
     "name": "stdout",
     "output_type": "stream",
     "text": [
      "我买了 3 斤苹果，每斤3.6元，一共花了 10.8 元。 还剩下 9.2 元\n"
     ]
    }
   ],
   "source": [
    "#print 函数/function  y = x + 1\n",
    "#参数/parameter\n",
    "#变量/variable\n",
    "n = 3\n",
    "fPrice = 3.6\n",
    "fAmont = n * fPrice\n",
    "fMoney = 20\n",
    "fMoney = fMoney - fAmont\n",
    "sText = \"我买了\"\n",
    "print(sText,n,\"斤苹果，每斤3.6元，一共花了\",fAmont,\"元。\",\"还剩下\",fMoney,\"元\")"
   ]
  },
  {
   "cell_type": "code",
   "execution_count": 3,
   "metadata": {},
   "outputs": [
    {
     "name": "stdout",
     "output_type": "stream",
     "text": [
      "['False', 'None', 'True', 'and', 'as', 'assert', 'async', 'await', 'break', 'class', 'continue', 'def', 'del', 'elif', 'else', 'except', 'finally', 'for', 'from', 'global', 'if', 'import', 'in', 'is', 'lambda', 'nonlocal', 'not', 'or', 'pass', 'raise', 'return', 'try', 'while', 'with', 'yield']\n"
     ]
    }
   ],
   "source": [
    "import keyword\n",
    "print(keyword.kwlist)   #可以打印Python中的所有关键字"
   ]
  },
  {
   "cell_type": "code",
   "execution_count": 2,
   "metadata": {},
   "outputs": [
    {
     "name": "stdout",
     "output_type": "stream",
     "text": [
      "14.000000000000002\n",
      "0.14*100 <> 14\n"
     ]
    }
   ],
   "source": [
    "n = 0.14\n",
    "n = n * 100\n",
    "print(n)\n",
    "if n == 14:     #条件语句\n",
    "    print(\"0.14*100 == 14\")\n",
    "else:\n",
    "    print(\"0.14*100 <> 14\")"
   ]
  },
  {
   "cell_type": "code",
   "execution_count": 3,
   "metadata": {},
   "outputs": [
    {
     "name": "stdout",
     "output_type": "stream",
     "text": [
      "How beautiful my life is. <class 'str'>\n"
     ]
    }
   ],
   "source": [
    "s = \"How beautiful my life is.\"\n",
    "print(s,type(s))"
   ]
  },
  {
   "cell_type": "code",
   "execution_count": 4,
   "metadata": {},
   "outputs": [
    {
     "name": "stdout",
     "output_type": "stream",
     "text": [
      "False\n",
      "3<2 <class 'bool'>\n"
     ]
    }
   ],
   "source": [
    "b = 3 < 2\n",
    "print(b)\n",
    "print(\"3<2\",type(b))"
   ]
  },
  {
   "cell_type": "code",
   "execution_count": 5,
   "metadata": {},
   "outputs": [
    {
     "ename": "SyntaxError",
     "evalue": "invalid syntax. Perhaps you forgot a comma? (1338760708.py, line 1)",
     "output_type": "error",
     "traceback": [
      "\u001b[1;36m  Cell \u001b[1;32mIn[5], line 1\u001b[1;36m\u001b[0m\n\u001b[1;33m    print(\"I told you, \"Python is good\".\")\u001b[0m\n\u001b[1;37m          ^\u001b[0m\n\u001b[1;31mSyntaxError\u001b[0m\u001b[1;31m:\u001b[0m invalid syntax. Perhaps you forgot a comma?\n"
     ]
    }
   ],
   "source": [
    "print(\"I told you, \"Python is good\".\")"
   ]
  },
  {
   "cell_type": "code",
   "execution_count": 6,
   "metadata": {},
   "outputs": [
    {
     "name": "stdout",
     "output_type": "stream",
     "text": [
      "I told you, \"Python is good\",'It is terrific'.\n"
     ]
    }
   ],
   "source": [
    "print(\"I told you, \\\"Python is good\\\",\\'It is terrific\\'.\")"
   ]
  },
  {
   "cell_type": "code",
   "execution_count": 7,
   "metadata": {},
   "outputs": [
    {
     "name": "stdout",
     "output_type": "stream",
     "text": [
      "I kown many popular languages, \n",
      "\tincluding:\n",
      "\t\tPython\n",
      "\t\tJava\n",
      "\t\tC++\n",
      "\t\tJavaScript\n"
     ]
    }
   ],
   "source": [
    "# [7]\n",
    "print(\"I kown many popular languages, \\n\\tincluding:\\n\\t\\tPython\\n\\t\\tJava\\n\\t\\tC++\\n\\t\\tJavaScript\")"
   ]
  },
  {
   "cell_type": "code",
   "execution_count": 8,
   "metadata": {},
   "outputs": [
    {
     "name": "stdout",
     "output_type": "stream",
     "text": [
      "Alan Turing\n"
     ]
    }
   ],
   "source": [
    "#d大小写转换\n",
    "sName = \"aLan turing\"\n",
    "print(sName.title())"
   ]
  },
  {
   "cell_type": "code",
   "execution_count": 9,
   "metadata": {},
   "outputs": [
    {
     "name": "stdout",
     "output_type": "stream",
     "text": [
      "JOHN VON NEUMANN\n",
      "john von neumann\n"
     ]
    }
   ],
   "source": [
    "sName = 'John von Neumann'\n",
    "print(sName.upper())\n",
    "print(sName.lower())"
   ]
  },
  {
   "cell_type": "code",
   "execution_count": 10,
   "metadata": {},
   "outputs": [
    {
     "name": "stdout",
     "output_type": "stream",
     "text": [
      "Output ly rstrip:            How beautiful my life is! End\n",
      "Output ly lstrip: How beautiful my life is!            End\n",
      "Output ly strip: How beautiful my life is! End\n"
     ]
    }
   ],
   "source": [
    "sText = \"           How beautiful my life is!           \"\n",
    "print(\"Output ly rstrip:\", sText.rstrip(),\"End\")\n",
    "print(\"Output ly lstrip:\", sText.lstrip(),\"End\")\n",
    "print(\"Output ly strip:\", sText.strip(),\"End\")"
   ]
  },
  {
   "cell_type": "code",
   "execution_count": 3,
   "metadata": {},
   "outputs": [
    {
     "name": "stdout",
     "output_type": "stream",
     "text": [
      "120 3.1415926\n",
      "i+f= 123.1415926\n",
      "s1+s2= 1203.1415926\n"
     ]
    }
   ],
   "source": [
    "s1 = \"120\"\n",
    "s2 = \"3.1415926\"\n",
    "i = int(s1)\n",
    "f = float(s2)\n",
    "print(i,f)\n",
    "print(\"i+f=\",i+f)\n",
    "print(\"s1+s2=\",s1+s2)"
   ]
  },
  {
   "cell_type": "code",
   "execution_count": 1,
   "metadata": {},
   "outputs": [
    {
     "name": "stdout",
     "output_type": "stream",
     "text": [
      "True\n",
      "Number of chickens = 23, Number of rabbits = 12\n"
     ]
    }
   ],
   "source": [
    "iHeads = 35   #头的数量\n",
    "iFeet = 94    #脚的数量\n",
    "a = iFeet - iHeads * 2\n",
    "iRabbits = a / 2   # 兔子的数量\n",
    "iChickens = iHeads - iRabbits   #鸡的数量\n",
    "print(iFeet == iChickens * 2 + iRabbits * 4)\n",
    "print(\"Number of chickens = %d,\" % iChickens, \"Number of rabbits = %d\" % iRabbits)\n"
   ]
  },
  {
   "cell_type": "code",
   "execution_count": null,
   "metadata": {},
   "outputs": [
    {
     "name": "stdout",
     "output_type": "stream",
     "text": [
      "a is bigger than 100.\n",
      "a line means nothing.\n",
      "a is a integer.\n"
     ]
    }
   ],
   "source": [
    "#缩进语法\n",
    "a = 103\n",
    "if a > 100:\n",
    "    print(\"a is bigger than 100.\")\n",
    "    print(\"a line means nothing.\")\n",
    "else:\n",
    "    pass\n",
    "\n",
    "print(\"a is a integer.\")"
   ]
  },
  {
   "cell_type": "code",
   "execution_count": 5,
   "metadata": {},
   "outputs": [
    {
     "name": "stdout",
     "output_type": "stream",
     "text": [
      "a>5: True\n",
      "a<20 and a>= 10: True\n",
      "a!=3: True\n",
      "a > 100 or a<20: True\n",
      "not a >= 10: False\n"
     ]
    }
   ],
   "source": [
    "a = 10\n",
    "print(\"a>5:\",a > 5)\n",
    "print(\"a<20 and a>= 10:\", a<20 and a >= 10)   # and 逻辑与\n",
    "print(\"a!=3:\",a != 3)                         # !=为不等于逻辑运算符\n",
    "print(\"a > 100 or a<20:\",a >100 or a < 20)    # or  逻辑或\n",
    "print(\"not a >= 10:\", not a>= 10)             # not 逻辑非"
   ]
  },
  {
   "cell_type": "code",
   "execution_count": 32,
   "metadata": {},
   "outputs": [
    {
     "name": "stdout",
     "output_type": "stream",
     "text": [
      "1739368214.7303646\n",
      "现在是格林尼治时间 13 时 50 分 14 秒\n",
      "从1970.1.1零时起到现在，经过了 1739368214 秒\n"
     ]
    }
   ],
   "source": [
    "#earthtime.py\n",
    "import time  #导入一个叫做time的模块\n",
    "\n",
    "curTime = time.time()  #从1970.1.1 0:0:0 -->现在经过的总秒数\n",
    "print(curTime)\n",
    "totalSeconds = int(curTime)\n",
    "curSecond = totalSeconds % 60  #当前秒数\n",
    "totalMinutes = totalSeconds // 60  #总分钟数\n",
    "curMinute = totalMinutes % 60  #当前分钟数\n",
    "totalHours = totalMinutes // 60  #总小时数\n",
    "curHour = totalHours % 24  #当前小时数\n",
    "\n",
    "print(\"现在是格林尼治时间\",curHour,\"时\",curMinute,\"分\",curSecond,\"秒\")\n",
    "print(\"从1970.1.1零时起到现在，经过了\",totalSeconds,\"秒\")"
   ]
  },
  {
   "cell_type": "code",
   "execution_count": 36,
   "metadata": {},
   "outputs": [
    {
     "name": "stdout",
     "output_type": "stream",
     "text": [
      "2025 - 2 - 12 \n",
      " 21 : 56 : 38\n",
      "<class 'datetime.datetime'>\n"
     ]
    }
   ],
   "source": [
    "import datetime\n",
    "curDate = datetime.datetime.now()  #当前的系统时间\n",
    "print(curDate.year,\"-\",curDate.month,\"-\",curDate.day,\"\\n\",\\\n",
    "    curDate.hour,\":\",curDate.minute,\":\",curDate.second)\n",
    "print(type(curDate))"
   ]
  }
 ],
 "metadata": {
  "kernelspec": {
   "display_name": "Python 3",
   "language": "python",
   "name": "python3"
  },
  "language_info": {
   "codemirror_mode": {
    "name": "ipython",
    "version": 3
   },
   "file_extension": ".py",
   "mimetype": "text/x-python",
   "name": "python",
   "nbconvert_exporter": "python",
   "pygments_lexer": "ipython3",
   "version": "3.13.0"
  }
 },
 "nbformat": 4,
 "nbformat_minor": 2
}
